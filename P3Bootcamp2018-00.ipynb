{
 "cells": [
  {
   "cell_type": "markdown",
   "metadata": {},
   "source": [
    "# Introduction to Python"
   ]
  },
  {
   "cell_type": "markdown",
   "metadata": {},
   "source": [
    "## Predictive Plant Phenomics Software Bootcamp 2018"
   ]
  },
  {
   "cell_type": "markdown",
   "metadata": {},
   "source": [
    "## Section 0: Introductions"
   ]
  },
  {
   "cell_type": "markdown",
   "metadata": {},
   "source": [
    "## Section 0.1: Spyder"
   ]
  },
  {
   "cell_type": "markdown",
   "metadata": {},
   "source": [
    "Open up Anaconda and launch Spyder.  Spyder is an integrated development environment, or IDE.  An IDE is a program with tools to help you with coding.  When you open Spyder, You will see a screen like this:"
   ]
  },
  {
   "cell_type": "markdown",
   "metadata": {},
   "source": [
    "![alt text](images/spyder-console.1.png)"
   ]
  },
  {
   "cell_type": "markdown",
   "metadata": {},
   "source": [
    "The Spyder IDE is broken up into 3 panes:\n",
    "\n",
    "* **Pane 1** is the **editor**.  You can edit files in here and run them by clicking the green play button right above the pane.  \n",
    "* **Pane 2** contains the **variable explorer** and **file explorer**.  The **variable explorer** lets you see the values of variables at a glance.  The **file explorer** is a basic file navigation system.  Click the tabs at the bottom of this pane to switch between the two.\n",
    "* **Pane 3** contains the **iPython console** and the **history log**.  The **iPython console** (referred to as the **console** from here on) is an interactive coding environment that you can run commands in.  The **history log** is a record of the last commands you entered.  Click the tabs at the bottom of this pane to switch between the two.  \n",
    "\n"
   ]
  },
  {
   "cell_type": "markdown",
   "metadata": {},
   "source": [
    "## Section 0.2: Class Materials"
   ]
  },
  {
   "cell_type": "markdown",
   "metadata": {},
   "source": [
    "Download the class materials from here:\n",
    "\n",
    "The file structure is:\n",
    "\n",
    "* **exercises** - starter code and supporting files for each of the exercises.  Each exe"
   ]
  }
 ],
 "metadata": {
  "kernelspec": {
   "display_name": "Python 3",
   "language": "python",
   "name": "python3"
  },
  "language_info": {
   "codemirror_mode": {
    "name": "ipython",
    "version": 3
   },
   "file_extension": ".py",
   "mimetype": "text/x-python",
   "name": "python",
   "nbconvert_exporter": "python",
   "pygments_lexer": "ipython3",
   "version": "3.6.5"
  }
 },
 "nbformat": 4,
 "nbformat_minor": 2
}
