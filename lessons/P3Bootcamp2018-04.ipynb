{
 "cells": [
  {
   "cell_type": "markdown",
   "metadata": {},
   "source": [
    "# Introduction to Python"
   ]
  },
  {
   "cell_type": "markdown",
   "metadata": {},
   "source": [
    "## Section 4: Functions"
   ]
  },
  {
   "cell_type": "markdown",
   "metadata": {},
   "source": [
    "Functions are modules of code that take in arguments and do something with them.  For example, we've been using `open` and `print` pretty extensively so far.  Another example is the `len()` function, which takes in an object and returns its length:"
   ]
  },
  {
   "cell_type": "code",
   "execution_count": 11,
   "metadata": {},
   "outputs": [
    {
     "data": {
      "text/plain": [
       "13"
      ]
     },
     "execution_count": 11,
     "metadata": {},
     "output_type": "execute_result"
    }
   ],
   "source": [
    "len(\"Peter Zarelli\")"
   ]
  },
  {
   "cell_type": "code",
   "execution_count": 1,
   "metadata": {},
   "outputs": [
    {
     "name": "stdout",
     "output_type": "stream",
     "text": [
      "[0, 1, 2, 3, 4, 5, 6, 7, 8, 9, 10, 11, 12, 13, 14, 15, 16, 17, 18, 19]\n"
     ]
    },
    {
     "data": {
      "text/plain": [
       "20"
      ]
     },
     "execution_count": 1,
     "metadata": {},
     "output_type": "execute_result"
    }
   ],
   "source": [
    "l = [i for i in range(20)]\n",
    "print(l)\n",
    "len(l)"
   ]
  },
  {
   "cell_type": "markdown",
   "metadata": {},
   "source": [
    "On the other hand, `str.replace(target, replace)` is a function performed on `str` that replaces all instances of `target` with `replace`:"
   ]
  },
  {
   "cell_type": "code",
   "execution_count": 2,
   "metadata": {},
   "outputs": [
    {
     "data": {
      "text/plain": [
       "'I miss potatoes!'"
      ]
     },
     "execution_count": 2,
     "metadata": {},
     "output_type": "execute_result"
    }
   ],
   "source": [
    "statement = \"I HATE potatoes!\"\n",
    "statement.replace(\"HATE\", \"miss\")"
   ]
  },
  {
   "cell_type": "markdown",
   "metadata": {},
   "source": [
    "So why use functions?  A few reasons:\n",
    "\n",
    "* **Portability**: By writing your code as a function, you can export it to your other programs or share it with others.\n",
    "* **Readability**: It's typically easier to understand what a function is doing by its name than by looking at its code.  For example, what's easier to understand?\n",
    "```python\n",
    "[2 * i + 1 for i in range(5)]\n",
    "```\n",
    "or \n",
    "```python\n",
    "first_n_odd_ints(5)\n",
    "```\n",
    "* **Debuggability**: Suppose you decide to copy-paste your code everywhere instead of writing a function.  If you find an error in your code, you have to go to each code chunk and manually change it.  On the other hand, if you wrote a function, you only need to make one change.\n",
    "\n",
    "Let's practice!"
   ]
  },
  {
   "cell_type": "markdown",
   "metadata": {},
   "source": [
    "### Section 4.1: Writing Functions"
   ]
  },
  {
   "cell_type": "markdown",
   "metadata": {},
   "source": [
    "The syntax for declaring a function is as follows:\n",
    "\n",
    "```python\n",
    "    def func(args):\n",
    "        # do stuff\n",
    "```"
   ]
  },
  {
   "cell_type": "markdown",
   "metadata": {},
   "source": [
    "Let's create a function that takes in a number and returns its square."
   ]
  },
  {
   "cell_type": "code",
   "execution_count": 1,
   "metadata": {},
   "outputs": [],
   "source": [
    "def square(x):\n",
    "    return x * x"
   ]
  },
  {
   "cell_type": "markdown",
   "metadata": {},
   "source": [
    "Now, whenever you want to square a number, you can call the square function:"
   ]
  },
  {
   "cell_type": "code",
   "execution_count": 2,
   "metadata": {},
   "outputs": [
    {
     "data": {
      "text/plain": [
       "4"
      ]
     },
     "execution_count": 2,
     "metadata": {},
     "output_type": "execute_result"
    }
   ],
   "source": [
    "square(2)"
   ]
  },
  {
   "cell_type": "code",
   "execution_count": 4,
   "metadata": {},
   "outputs": [
    {
     "name": "stdout",
     "output_type": "stream",
     "text": [
      "0\n",
      "1\n",
      "4\n",
      "9\n",
      "16\n",
      "25\n",
      "36\n",
      "49\n",
      "64\n",
      "81\n"
     ]
    }
   ],
   "source": [
    "my_ints = [_ for _ in range(10)]\n",
    "for num in my_ints:\n",
    "    print(square(num))"
   ]
  },
  {
   "cell_type": "markdown",
   "metadata": {},
   "source": [
    "When you're writing functions, its good practice to add some documentation, or doc string, to the function.  That way, it's easier for others to figure out what your function does, and you'll be able to remember what you were thinking when you look at this function in 5 years (or 5 days).  For example, for `square`, a simple doc string could be:"
   ]
  },
  {
   "cell_type": "code",
   "execution_count": null,
   "metadata": {},
   "outputs": [],
   "source": [
    "def square(x):\n",
    "    '''\n",
    "        Returns the square of the number x\n",
    "    '''\n",
    "    return x * x"
   ]
  },
  {
   "cell_type": "markdown",
   "metadata": {},
   "source": [
    "This is a very simple function, but as you write more and more complicated functions, doc strings become more valuable.\n",
    "\n",
    "Remember how to tell if a number is even?  Let's turn that into a function."
   ]
  },
  {
   "cell_type": "code",
   "execution_count": null,
   "metadata": {},
   "outputs": [],
   "source": [
    "def is_even(n):\n",
    "    '''\n",
    "        Returns True if n is even, False otherwise\n",
    "    '''\n",
    "    if n % 2 == 0:\n",
    "        return True\n",
    "    else:\n",
    "        return False"
   ]
  },
  {
   "cell_type": "markdown",
   "metadata": {},
   "source": [
    "Now we can use our `is_even` function instead of having to type `a % b == 0` everywhere.  It's also a lot easier to understand `is_even` at first sight than `a % b == 0`."
   ]
  },
  {
   "cell_type": "code",
   "execution_count": 9,
   "metadata": {},
   "outputs": [
    {
     "data": {
      "text/plain": [
       "False"
      ]
     },
     "execution_count": 9,
     "metadata": {},
     "output_type": "execute_result"
    }
   ],
   "source": [
    "is_even(5)"
   ]
  },
  {
   "cell_type": "code",
   "execution_count": 10,
   "metadata": {},
   "outputs": [
    {
     "data": {
      "text/plain": [
       "True"
      ]
     },
     "execution_count": 10,
     "metadata": {},
     "output_type": "execute_result"
    }
   ],
   "source": [
    "is_even(74)"
   ]
  },
  {
   "cell_type": "code",
   "execution_count": 14,
   "metadata": {},
   "outputs": [
    {
     "name": "stdout",
     "output_type": "stream",
     "text": [
      "0 is even.\n",
      "1 is odd.\n",
      "2 is even.\n",
      "3 is odd.\n",
      "4 is even.\n",
      "5 is odd.\n",
      "6 is even.\n",
      "7 is odd.\n",
      "8 is even.\n",
      "9 is odd.\n"
     ]
    }
   ],
   "source": [
    "for num in my_ints:\n",
    "    if is_even(num):\n",
    "        print(\"{} is even.\".format(num))\n",
    "    else:\n",
    "        print(\"{} is odd.\".format(num))"
   ]
  },
  {
   "cell_type": "markdown",
   "metadata": {},
   "source": [
    "We're going to write a `get_gc_content` function together.  Let's first begin by trying to solve a single example."
   ]
  },
  {
   "cell_type": "code",
   "execution_count": 19,
   "metadata": {},
   "outputs": [],
   "source": [
    "test_string = \"ACGCGATAGCAAA\""
   ]
  },
  {
   "cell_type": "markdown",
   "metadata": {},
   "source": [
    "Our test string is 13 characters long and has 6 `G` and `C` bases, so we expect a gc content of `6 / 13 = 0.46153...`.  We're going to have to iterate through the whole string, so we can start by creating our `for` loop:\n",
    "\n",
    "```python\n",
    "for base in test_string:\n",
    "    # do stuff\n",
    "```\n",
    "\n",
    "As we go through the bases, we're going to want to keep a tally of the `G`s or `C`s that we encounter.  \n",
    "\n",
    "```python\n",
    "gc_count = 0\n",
    "for base in test_string:\n",
    "    if base is `G` or if base is `C`:\n",
    "        gc_count += 1\n",
    "```\n",
    "\n",
    "Finally, we want to divide `gc_count` by the total number of bases in the string:"
   ]
  },
  {
   "cell_type": "code",
   "execution_count": 29,
   "metadata": {},
   "outputs": [],
   "source": [
    "gc_count = 0\n",
    "for base in test_string:\n",
    "    if base is 'G' or base is 'C':\n",
    "        gc_count += 1\n",
    "gc_count / len(test_string)"
   ]
  },
  {
   "cell_type": "markdown",
   "metadata": {},
   "source": [
    "Great!  We got our desired result!  Now, to turn this into a function, we'll just add a header, change some variable names, add a return statement, and add a doc string:"
   ]
  },
  {
   "cell_type": "code",
   "execution_count": 39,
   "metadata": {},
   "outputs": [],
   "source": [
    "def get_gc_content(dna_seq):\n",
    "    '''\n",
    "        Returns the proportion of G's and C's in a dna sequence.\n",
    "    '''\n",
    "    gc_count = 0\n",
    "    for base in dna_seq:\n",
    "        if base is 'G' or base is 'C':\n",
    "            gc_count += 1\n",
    "    return gc_count / len(dna_seq)"
   ]
  },
  {
   "cell_type": "markdown",
   "metadata": {},
   "source": [
    "Now we can start passing sequences to `get_gc_content`:"
   ]
  },
  {
   "cell_type": "code",
   "execution_count": 31,
   "metadata": {},
   "outputs": [
    {
     "data": {
      "text/plain": [
       "0.8461538461538461"
      ]
     },
     "execution_count": 31,
     "metadata": {},
     "output_type": "execute_result"
    }
   ],
   "source": [
    "get_gc_content(\"TGCTGCTGCTCGAGACGA\")"
   ]
  },
  {
   "cell_type": "code",
   "execution_count": 32,
   "metadata": {},
   "outputs": [
    {
     "data": {
      "text/plain": [
       "0.6923076923076923"
      ]
     },
     "execution_count": 32,
     "metadata": {},
     "output_type": "execute_result"
    }
   ],
   "source": [
    "get_gc_content(\"ATGGCTTAGCTCGATACG\")"
   ]
  },
  {
   "cell_type": "code",
   "execution_count": 41,
   "metadata": {},
   "outputs": [
    {
     "name": "stdout",
     "output_type": "stream",
     "text": [
      "The gc content of sequence 1 is 0.6086956521739131\n",
      "The gc content of sequence 2 is 0.5185185185185185\n",
      "The gc content of sequence 3 is 0.5333333333333333\n",
      "The gc content of sequence 4 is 0.5483870967741935\n"
     ]
    }
   ],
   "source": [
    "seqs = [\"CATTGCACTCCGCCGGGCAAACA\", \"CATTGCACTCCAGCCTGGGCAAAAACA\", \n",
    "       \"TAGCCAGGCATGGTGAAGTTGCAGTGAGCT\", \"TAACCACCATTGCACTCCAGCCTGGGTAGCA\"]\n",
    "\n",
    "for num, seq in enumerate(seqs):\n",
    "    print(\"The gc content of sequence {} is {}.\".format(num + 1, get_gc_content(seq)))\n",
    "    "
   ]
  },
  {
   "cell_type": "markdown",
   "metadata": {},
   "source": [
    "#### Exercise 4.1\n",
    "\n",
    "* Do you see any inefficiencies with our `get_gc_content` function?  How can we improve it? \n",
    "* Translate your code from **Exercise 4.1** into the function `get_story_details`.  The function takes two arguments: `file_in`, the name of the story of interest, and `file_out`, the file to which we will write.  The output will be the same, but write out the title in the file and *append* to the file instead of overwriting.\n",
    "* Write the `report_gc_content` function.  The function takes in the single argument `file_in`, a fasta file of interest.  The function writes the fasta sequences to a new text file called `processed_file_in` with the `gc_content` on the header line of each sequence.  Practice writing this function on `short.inti1.97.fasta`.  Note: it's possible to modify `file_in` in-place, but it is not good practice to modify your raw data.  "
   ]
  },
  {
   "cell_type": "markdown",
   "metadata": {},
   "source": [
    "### Section 4.2: Modules\n",
    "\n",
    "Modules, or libraries, are collections of functions that someone else wrote that you can import into your environment and use.  For example, you can import the `glob` library to query a directory for files matching a certain pattern."
   ]
  },
  {
   "cell_type": "code",
   "execution_count": 44,
   "metadata": {},
   "outputs": [
    {
     "data": {
      "text/plain": [
       "['./data/stories/second_bakery_attack.txt',\n",
       " './data/stories/sleep.txt',\n",
       " './data/stories/100_percent.txt',\n",
       " './data/stories/woods.txt']"
      ]
     },
     "execution_count": 44,
     "metadata": {},
     "output_type": "execute_result"
    }
   ],
   "source": [
    "import glob\n",
    "glob.glob(\"./data/stories/*.txt\")"
   ]
  },
  {
   "cell_type": "markdown",
   "metadata": {},
   "source": [
    "(If you are familiar with UNIX, this is equivalent to `ls ./data/stories/*.txt`) \n",
    "\n",
    "We can save the results of this into a list for us to iterate over.  "
   ]
  },
  {
   "cell_type": "code",
   "execution_count": 46,
   "metadata": {},
   "outputs": [
    {
     "data": {
      "text/plain": [
       "['./data/stories/second_bakery_attack.txt',\n",
       " './data/stories/sleep.txt',\n",
       " './data/stories/100_percent.txt',\n",
       " './data/stories/woods.txt']"
      ]
     },
     "execution_count": 46,
     "metadata": {},
     "output_type": "execute_result"
    }
   ],
   "source": [
    "stories = glob.glob(\"./data/stories/*.txt\")\n",
    "stories"
   ]
  },
  {
   "cell_type": "markdown",
   "metadata": {},
   "source": [
    "#### Exercise 4.2\n",
    "* Loop over `stories` with your `get_story_info` function.  Output it to a file named `story_details`.\n",
    "* Search for all th"
   ]
  }
 ],
 "metadata": {
  "kernelspec": {
   "display_name": "Python 3",
   "language": "python",
   "name": "python3"
  },
  "language_info": {
   "codemirror_mode": {
    "name": "ipython",
    "version": 3
   },
   "file_extension": ".py",
   "mimetype": "text/x-python",
   "name": "python",
   "nbconvert_exporter": "python",
   "pygments_lexer": "ipython3",
   "version": "3.6.5"
  }
 },
 "nbformat": 4,
 "nbformat_minor": 2
}
