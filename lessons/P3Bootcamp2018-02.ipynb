{
 "cells": [
  {
   "cell_type": "markdown",
   "metadata": {},
   "source": [
    "# Introduction to Python"
   ]
  },
  {
   "cell_type": "markdown",
   "metadata": {},
   "source": [
    "## Predictive Plant Phenomics Software Bootcamp 2018"
   ]
  },
  {
   "cell_type": "markdown",
   "metadata": {},
   "source": [
    "# Section 2: Control Flow "
   ]
  },
  {
   "cell_type": "markdown",
   "metadata": {},
   "source": [
    "[**Control flow**][cflow-wiki] refers to how the statements in a program *control* how the program *flows* (yeah....).  A basic example would be if you are looking for sequences shorter than 200nb in a FASTA file so that you can save them in another file.  In order to do this, you would:\n",
    "\n",
    "* Read through each sequence in the file\n",
    "* Determine if the sequence is shorter than 200nb.  If it is, write it to another file.\n",
    "\n",
    "Each of these are considered *control statements*, the first being an example of a loop and the second a conditional.\n",
    "\n",
    "[cflow-wiki]: https://en.wikipedia.org/wiki/Control_flow"
   ]
  },
  {
   "cell_type": "markdown",
   "metadata": {},
   "source": [
    "### Section 2.1: Conditionals"
   ]
  },
  {
   "cell_type": "markdown",
   "metadata": {},
   "source": [
    "### Section 2.2: Loops"
   ]
  },
  {
   "cell_type": "markdown",
   "metadata": {},
   "source": [
    "### Section 2.: While loops"
   ]
  }
 ],
 "metadata": {
  "kernelspec": {
   "display_name": "Python 3",
   "language": "python",
   "name": "python3"
  },
  "language_info": {
   "codemirror_mode": {
    "name": "ipython",
    "version": 3
   },
   "file_extension": ".py",
   "mimetype": "text/x-python",
   "name": "python",
   "nbconvert_exporter": "python",
   "pygments_lexer": "ipython3",
   "version": "3.6.5"
  }
 },
 "nbformat": 4,
 "nbformat_minor": 2
}
