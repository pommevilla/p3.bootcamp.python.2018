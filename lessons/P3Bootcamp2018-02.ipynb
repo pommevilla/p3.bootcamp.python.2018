{
 "cells": [
  {
   "cell_type": "markdown",
   "metadata": {},
   "source": [
    "# Introduction to Python"
   ]
  },
  {
   "cell_type": "markdown",
   "metadata": {},
   "source": [
    "## Predictive Plant Phenomics Software Bootcamp 2018"
   ]
  },
  {
   "cell_type": "markdown",
   "metadata": {},
   "source": [
    "# Section 2: Control Flow "
   ]
  },
  {
   "cell_type": "markdown",
   "metadata": {},
   "source": [
    "[**Control flow**][cflow-wiki] refers to how the statements in a program *control* how the program *flows* (yeah....).  A basic example would be if you are looking for sequences shorter than 200nb in a FASTA file so that you can save them in another file.  In order to do this, you would:\n",
    "\n",
    "* Read through each sequence in the file\n",
    "* Determine if the sequence is shorter than 200nb.  If it is, write it to another file.\n",
    "\n",
    "Each of these are considered *control statements*, the first being an example of a loop and the second a conditional.  We'll start with `for` loops.\n",
    "\n",
    "[cflow-wiki]: https://en.wikipedia.org/wiki/Control_flow"
   ]
  },
  {
   "cell_type": "markdown",
   "metadata": {},
   "source": [
    "### Section 2.1: For Loops\n",
    "\n",
    "So far, we've seen how to access individual elements of a container and do stuff with them.  How do we access all the elements in the container at once?  A `for` loop interates over all of the items inside a container so that you can do something with them.  For example, suppose we have a list:"
   ]
  },
  {
   "cell_type": "code",
   "execution_count": 3,
   "metadata": {},
   "outputs": [],
   "source": [
    "animals = ['cow', 'chicken', 'fish']"
   ]
  },
  {
   "cell_type": "markdown",
   "metadata": {},
   "source": [
    "We can print out each item in the following way:"
   ]
  },
  {
   "cell_type": "code",
   "execution_count": 4,
   "metadata": {},
   "outputs": [
    {
     "name": "stdout",
     "output_type": "stream",
     "text": [
      "cow\n",
      "chicken\n",
      "fish\n"
     ]
    }
   ],
   "source": [
    "for animal in animals:\n",
    "    print(animal)"
   ]
  },
  {
   "cell_type": "markdown",
   "metadata": {},
   "source": [
    "Note the indentation on the line after the `for` loop - this indentation level indicates a code block.  Also note the colon after the declaration of the `for` loop.  The `animal` after the `for` is just a dummy variable - you can name that variable anything you'd like.  \n",
    "\n",
    "Python is smart enough to know how to iterate over pretty much anything that can be represented as a list.  For example:"
   ]
  },
  {
   "cell_type": "code",
   "execution_count": 6,
   "metadata": {},
   "outputs": [
    {
     "name": "stdout",
     "output_type": "stream",
     "text": [
      "A\n",
      "p\n",
      "p\n",
      "o\n",
      "l\n",
      "l\n",
      "i\n",
      "o\n",
      "n\n"
     ]
    }
   ],
   "source": [
    "my_almost_name = 'Appollion'\n",
    "for letter in my_almost_name:\n",
    "    print(letter)"
   ]
  },
  {
   "cell_type": "markdown",
   "metadata": {},
   "source": [
    "You can also use indexing to iterate with a `for` loop.  To do this, use the `range` function.  When you enter `range(n)`, you get a `range` object that Python knows how to iterate over.  We can reproduce our previous examples using `range`:"
   ]
  },
  {
   "cell_type": "code",
   "execution_count": 7,
   "metadata": {},
   "outputs": [
    {
     "name": "stdout",
     "output_type": "stream",
     "text": [
      "cow\n",
      "chicken\n",
      "fish\n"
     ]
    }
   ],
   "source": [
    "for i in range(len(animals)):\n",
    "    print(animals[i])"
   ]
  },
  {
   "cell_type": "code",
   "execution_count": 8,
   "metadata": {},
   "outputs": [
    {
     "name": "stdout",
     "output_type": "stream",
     "text": [
      "A\n",
      "p\n",
      "p\n",
      "o\n",
      "l\n",
      "l\n",
      "i\n",
      "o\n",
      "n\n"
     ]
    }
   ],
   "source": [
    "for i in range(len(my_almost_name)):\n",
    "    print(my_almost_name[i])"
   ]
  },
  {
   "cell_type": "markdown",
   "metadata": {},
   "source": [
    "For the most part, you'll more likely be using the `for thing in container_of_things` syntax, but there are cases where going by index is useful:"
   ]
  },
  {
   "cell_type": "code",
   "execution_count": 9,
   "metadata": {},
   "outputs": [
    {
     "name": "stdout",
     "output_type": "stream",
     "text": [
      "My favorite food made from cow is hamburger.\n",
      "My favorite food made from chicken is chicken nuggets.\n",
      "My favorite food made from fish is lemon salmon thing.\n"
     ]
    }
   ],
   "source": [
    "foods = ['hamburger', 'chicken nuggets', 'lemon salmon thing']\n",
    "for i in range(len(animals)):\n",
    "    print(\"My favorite food made from {} is {}.\".format(\n",
    "    animals[i], foods[i]))"
   ]
  },
  {
   "cell_type": "markdown",
   "metadata": {},
   "source": [
    "We can also use a `for` loop to iterate over dictionaries and retrieve their entries.  The basic syntax is:\n",
    "\n",
    "```python\n",
    "    for key in dictionary:\n",
    "        # do something with dictionary[key]\n",
    "```"
   ]
  },
  {
   "cell_type": "code",
   "execution_count": 11,
   "metadata": {},
   "outputs": [
    {
     "name": "stdout",
     "output_type": "stream",
     "text": [
      "Britney Spears Lucky\n",
      "Backstreet Boys Larger Than Life\n",
      "Drake HYFR\n",
      "Jay Park All I Wanna Do\n",
      "Rihanna Where Have You Been\n",
      "Bruno Mars When I Was Your Man\n"
     ]
    }
   ],
   "source": [
    "best_songs = {\n",
    "    \"Britney Spears\": \"Lucky\",\n",
    "    \"Backstreet Boys\": \"Larger Than Life\",\n",
    "    \"Drake\": \"HYFR\",\n",
    "    \"Jay Park\": \"All I Wanna Do\",\n",
    "    \"Rihanna\": \"Where Have You Been\",\n",
    "    \"Bruno Mars\": \"When I Was Your Man\"\n",
    "}\n",
    "\n",
    "for artist in best_songs:\n",
    "    print(artist, best_songs[artist])"
   ]
  },
  {
   "cell_type": "markdown",
   "metadata": {},
   "source": [
    "We can also use `for` loops to help us modify values."
   ]
  },
  {
   "cell_type": "code",
   "execution_count": 13,
   "metadata": {},
   "outputs": [
    {
     "name": "stdout",
     "output_type": "stream",
     "text": [
      "2\n",
      "4\n",
      "6\n",
      "8\n",
      "10\n",
      "12\n",
      "14\n",
      "16\n",
      "18\n",
      "20\n"
     ]
    }
   ],
   "source": [
    "int_list = [1, 2, 3, 4, 5, 6, 7, 8, 9, 10]\n",
    "for num in int_list:\n",
    "    print(num * 2)"
   ]
  },
  {
   "cell_type": "markdown",
   "metadata": {},
   "source": [
    "#### Exercise 2.1\n",
    "\n",
    "* Create an empty list named `triples` by entering `triples = []`.  Iterate over `int_list`, multiply each of the integers by 3, and save them to `triples`.\n",
    "* Iterate over `best_songs` again and use string formatting to output \"The best song by ... is ...\".\n",
    "* Iterate over both `int_list` and `triples` and use string formatting to output \"... times 3 is ...\"\n",
    "* Repeat the above by only iterating over `int_list`.\n"
   ]
  },
  {
   "cell_type": "markdown",
   "metadata": {},
   "source": [
    "### Section 2.2: Conditionals"
   ]
  },
  {
   "cell_type": "markdown",
   "metadata": {},
   "source": [
    "### Section 2.2.1: While Loops"
   ]
  },
  {
   "cell_type": "code",
   "execution_count": null,
   "metadata": {},
   "outputs": [],
   "source": []
  }
 ],
 "metadata": {
  "kernelspec": {
   "display_name": "Python 3",
   "language": "python",
   "name": "python3"
  },
  "language_info": {
   "codemirror_mode": {
    "name": "ipython",
    "version": 3
   },
   "file_extension": ".py",
   "mimetype": "text/x-python",
   "name": "python",
   "nbconvert_exporter": "python",
   "pygments_lexer": "ipython3",
   "version": "3.6.5"
  }
 },
 "nbformat": 4,
 "nbformat_minor": 2
}
