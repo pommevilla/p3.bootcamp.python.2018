{
 "cells": [
  {
   "cell_type": "markdown",
   "metadata": {},
   "source": [
    "# Introduction to Python"
   ]
  },
  {
   "cell_type": "markdown",
   "metadata": {},
   "source": [
    "## Predictive Plant Phenomics Software Bootcamp 2018"
   ]
  },
  {
   "cell_type": "markdown",
   "metadata": {},
   "source": [
    "## Section 1: Getting Started\n",
    "\n",
    "Let's get started by typing some stuff into the console and seeing what happens.\n",
    "\n",
    "### Section 1.1: Arithmetic\n",
    "\n",
    "One of the basic things you can do with the Python console is use it as a calculator.  Type the commands you see in the cells marked `In` into your console and press `Enter`; your output should match the `Out` cell directly beneath it."
   ]
  },
  {
   "cell_type": "code",
   "execution_count": 53,
   "metadata": {},
   "outputs": [
    {
     "data": {
      "text/plain": [
       "4"
      ]
     },
     "execution_count": 53,
     "metadata": {},
     "output_type": "execute_result"
    }
   ],
   "source": [
    "1 + 3 "
   ]
  },
  {
   "cell_type": "code",
   "execution_count": 54,
   "metadata": {},
   "outputs": [
    {
     "data": {
      "text/plain": [
       "945"
      ]
     },
     "execution_count": 54,
     "metadata": {},
     "output_type": "execute_result"
    }
   ],
   "source": [
    "27 * 35"
   ]
  },
  {
   "cell_type": "code",
   "execution_count": 55,
   "metadata": {},
   "outputs": [
    {
     "data": {
      "text/plain": [
       "0.5"
      ]
     },
     "execution_count": 55,
     "metadata": {},
     "output_type": "execute_result"
    }
   ],
   "source": [
    "1/2"
   ]
  },
  {
   "cell_type": "markdown",
   "metadata": {},
   "source": [
    "Python follows the order of operations that you are used to from math:"
   ]
  },
  {
   "cell_type": "code",
   "execution_count": 56,
   "metadata": {},
   "outputs": [
    {
     "data": {
      "text/plain": [
       "76"
      ]
     },
     "execution_count": 56,
     "metadata": {},
     "output_type": "execute_result"
    }
   ],
   "source": [
    "1 + 3 * 5 ** 2"
   ]
  },
  {
   "cell_type": "code",
   "execution_count": 57,
   "metadata": {},
   "outputs": [
    {
     "data": {
      "text/plain": [
       "100"
      ]
     },
     "execution_count": 57,
     "metadata": {},
     "output_type": "execute_result"
    }
   ],
   "source": [
    "(1 + 3) * 5 ** 2"
   ]
  },
  {
   "cell_type": "markdown",
   "metadata": {},
   "source": [
    "You can also save values to variables and use them to perform arithmetic:"
   ]
  },
  {
   "cell_type": "code",
   "execution_count": 58,
   "metadata": {},
   "outputs": [
    {
     "data": {
      "text/plain": [
       "10"
      ]
     },
     "execution_count": 58,
     "metadata": {},
     "output_type": "execute_result"
    }
   ],
   "source": [
    "a = 2\n",
    "b = 4\n",
    "a + 2 * b"
   ]
  },
  {
   "cell_type": "code",
   "execution_count": null,
   "metadata": {},
   "outputs": [],
   "source": []
  },
  {
   "cell_type": "markdown",
   "metadata": {},
   "source": [
    "### Section 1.2: Strings"
   ]
  },
  {
   "cell_type": "markdown",
   "metadata": {},
   "source": [
    "### Section 1.3: Lists\n",
    "\n",
    "A `list` in Python is a collection of objects.  You create a list with a pair of brackets `[ ]` and by separating a list of items:"
   ]
  },
  {
   "cell_type": "code",
   "execution_count": 59,
   "metadata": {},
   "outputs": [
    {
     "data": {
      "text/plain": [
       "['apple', 'banana', 'cumquat', 'date']"
      ]
     },
     "execution_count": 59,
     "metadata": {},
     "output_type": "execute_result"
    }
   ],
   "source": [
    "my_list = ['apple', 'banana', 'cumquat', 'date']\n",
    "my_list"
   ]
  },
  {
   "cell_type": "markdown",
   "metadata": {},
   "source": [
    "You can use indexing and slicing operations on a list just as you would a string:"
   ]
  },
  {
   "cell_type": "code",
   "execution_count": 60,
   "metadata": {},
   "outputs": [
    {
     "data": {
      "text/plain": [
       "'banana'"
      ]
     },
     "execution_count": 60,
     "metadata": {},
     "output_type": "execute_result"
    }
   ],
   "source": [
    "my_list[1]"
   ]
  },
  {
   "cell_type": "code",
   "execution_count": 61,
   "metadata": {},
   "outputs": [
    {
     "data": {
      "text/plain": [
       "['cumquat', 'date']"
      ]
     },
     "execution_count": 61,
     "metadata": {},
     "output_type": "execute_result"
    }
   ],
   "source": [
    "my_list[2:4]"
   ]
  },
  {
   "cell_type": "markdown",
   "metadata": {},
   "source": [
    "You can do a lot of cool shit with lists.  We'll go over it later.  For now, practice by making a list called `last_movies` which contains the last three movies you watched.\n",
    "\n",
    "### Section 1.4: Dictionaries\n",
    "\n",
    "Another fundamental Python data structure is the `dictionary`.  A dictionary is an collection of `key: value` pairs.  Just as you would look up the definition of a word in a real dictionary, you look up the value of a key in a Python dictionary.  Here's how you make a dictionary:"
   ]
  },
  {
   "cell_type": "code",
   "execution_count": 62,
   "metadata": {},
   "outputs": [
    {
     "data": {
      "text/plain": [
       "{'Britney Spears': 'Lucky',\n",
       " 'Backstreet Boys': 'Larger Than Life',\n",
       " 'Drake': 'HYFR',\n",
       " 'Jay Park': 'All I Wanna Do',\n",
       " 'Rihanna': 'Where Have You Been'}"
      ]
     },
     "execution_count": 62,
     "metadata": {},
     "output_type": "execute_result"
    }
   ],
   "source": [
    "best_songs = {\n",
    "    \"Britney Spears\": \"Lucky\",\n",
    "    \"Backstreet Boys\": \"Larger Than Life\",\n",
    "    \"Drake\": \"HYFR\",\n",
    "    \"Jay Park\": \"All I Wanna Do\",\n",
    "    \"Rihanna\": \"Where Have You Been\"    \n",
    "}\n",
    "best_songs"
   ]
  },
  {
   "cell_type": "markdown",
   "metadata": {},
   "source": [
    "You can \"look up\" the value of a key in a dictionary with `dictionary[key]`:"
   ]
  },
  {
   "cell_type": "code",
   "execution_count": 63,
   "metadata": {},
   "outputs": [
    {
     "data": {
      "text/plain": [
       "'HYFR'"
      ]
     },
     "execution_count": 63,
     "metadata": {},
     "output_type": "execute_result"
    }
   ],
   "source": [
    "best_songs['Drake']"
   ]
  },
  {
   "cell_type": "markdown",
   "metadata": {},
   "source": [
    "We can see if a key exists in a list:"
   ]
  },
  {
   "cell_type": "code",
   "execution_count": 64,
   "metadata": {},
   "outputs": [
    {
     "data": {
      "text/plain": [
       "True"
      ]
     },
     "execution_count": 64,
     "metadata": {},
     "output_type": "execute_result"
    }
   ],
   "source": [
    "\"Drake\" in best_songs"
   ]
  },
  {
   "cell_type": "code",
   "execution_count": 65,
   "metadata": {},
   "outputs": [
    {
     "data": {
      "text/plain": [
       "False"
      ]
     },
     "execution_count": 65,
     "metadata": {},
     "output_type": "execute_result"
    }
   ],
   "source": [
    "\"Bruno Mars\" in best_songs"
   ]
  },
  {
   "cell_type": "markdown",
   "metadata": {},
   "source": [
    "Adding entries to a dictionary is simple - just tell the dictionary what the new value is with `dictionary['New key'] = value`:"
   ]
  },
  {
   "cell_type": "code",
   "execution_count": 66,
   "metadata": {},
   "outputs": [
    {
     "data": {
      "text/plain": [
       "{'Britney Spears': 'Lucky',\n",
       " 'Backstreet Boys': 'Larger Than Life',\n",
       " 'Drake': 'HYFR',\n",
       " 'Jay Park': 'All I Wanna Do',\n",
       " 'Rihanna': 'Where Have You Been',\n",
       " 'Bruno Mars': 'When I Was Your Man'}"
      ]
     },
     "execution_count": 66,
     "metadata": {},
     "output_type": "execute_result"
    }
   ],
   "source": [
    "best_songs[\"Bruno Mars\"] = \"When I Was Your Man\"\n",
    "best_songs"
   ]
  },
  {
   "cell_type": "markdown",
   "metadata": {},
   "source": [
    "Note that you can't access the elements of a dictionary as you would a list:"
   ]
  },
  {
   "cell_type": "code",
   "execution_count": 67,
   "metadata": {},
   "outputs": [
    {
     "ename": "KeyError",
     "evalue": "1",
     "output_type": "error",
     "traceback": [
      "\u001b[1;31m---------------------------------------------------------------------------\u001b[0m",
      "\u001b[1;31mKeyError\u001b[0m                                  Traceback (most recent call last)",
      "\u001b[1;32m<ipython-input-67-ff73b50e0b35>\u001b[0m in \u001b[0;36m<module>\u001b[1;34m()\u001b[0m\n\u001b[1;32m----> 1\u001b[1;33m \u001b[0mbest_songs\u001b[0m\u001b[1;33m[\u001b[0m\u001b[1;36m1\u001b[0m\u001b[1;33m]\u001b[0m\u001b[1;33m\u001b[0m\u001b[0m\n\u001b[0m",
      "\u001b[1;31mKeyError\u001b[0m: 1"
     ]
    }
   ],
   "source": [
    "best_songs[1]"
   ]
  },
  {
   "cell_type": "markdown",
   "metadata": {},
   "source": [
    "What do you think happened?\n",
    "\n",
    "Practice by making your own dictionary called `my_faves` which contains your favorite `song`, favorite `food`, favorite `person`, and favorite `movie`.\n",
    "\n",
    "Changing a dictionary entry is also simple - again, just tell the dictionary what you want the new value to be:"
   ]
  },
  {
   "cell_type": "code",
   "execution_count": 68,
   "metadata": {},
   "outputs": [
    {
     "data": {
      "text/plain": [
       "{'Britney Spears': 'Lucky',\n",
       " 'Backstreet Boys': 'Larger Than Life',\n",
       " 'Drake': 'HYFR',\n",
       " 'Jay Park': 'All I Wanna Do',\n",
       " 'Rihanna': 'Where Have You Been',\n",
       " 'Bruno Mars': \"That's What I Like\"}"
      ]
     },
     "execution_count": 68,
     "metadata": {},
     "output_type": "execute_result"
    }
   ],
   "source": [
    "best_songs[\"Bruno Mars\"] = \"That's What I Like\"\n",
    "best_songs"
   ]
  },
  {
   "cell_type": "markdown",
   "metadata": {},
   "source": [
    "Note that dictionary values can be pretty much anything.  For instance, you can have a list for a dictionary value:"
   ]
  },
  {
   "cell_type": "code",
   "execution_count": 69,
   "metadata": {},
   "outputs": [
    {
     "data": {
      "text/plain": [
       "{'Britney Spears': 'Lucky',\n",
       " 'Backstreet Boys': 'Larger Than Life',\n",
       " 'Drake': 'HYFR',\n",
       " 'Jay Park': 'All I Wanna Do',\n",
       " 'Rihanna': 'Where Have You Been',\n",
       " 'Bruno Mars': ['When I Was Your Man', \"That's What I Like\"]}"
      ]
     },
     "execution_count": 69,
     "metadata": {},
     "output_type": "execute_result"
    }
   ],
   "source": [
    "best_songs[\"Bruno Mars\"] = [\"When I Was Your Man\", \"That's What I Like\"]\n",
    "best_songs"
   ]
  },
  {
   "cell_type": "markdown",
   "metadata": {},
   "source": [
    "When you look up a dictionary value, you can interact with it as you normally would.  For example, if your dictionary value is a list, you can use indexing on it:"
   ]
  },
  {
   "cell_type": "code",
   "execution_count": 70,
   "metadata": {},
   "outputs": [
    {
     "data": {
      "text/plain": [
       "'When I Was Your Man'"
      ]
     },
     "execution_count": 70,
     "metadata": {},
     "output_type": "execute_result"
    }
   ],
   "source": [
    "best_songs['Bruno Mars'][0]"
   ]
  },
  {
   "cell_type": "markdown",
   "metadata": {},
   "source": [
    "You can even have another dictionary as a value:"
   ]
  },
  {
   "cell_type": "code",
   "execution_count": 71,
   "metadata": {},
   "outputs": [
    {
     "data": {
      "text/plain": [
       "\"That's What I Like\""
      ]
     },
     "execution_count": 71,
     "metadata": {},
     "output_type": "execute_result"
    }
   ],
   "source": [
    "best_songs[\"Bruno Mars\"] = {\"Wild\": \"That's What I Like\", \n",
    "                            \"Sad\": \"When I Was Your Man\"}\n",
    "best_songs['Bruno Mars']['Wild']"
   ]
  },
  {
   "cell_type": "markdown",
   "metadata": {},
   "source": [
    "### Section 1.5: Printing"
   ]
  },
  {
   "cell_type": "markdown",
   "metadata": {},
   "source": [
    "We can also print out things to the console:"
   ]
  },
  {
   "cell_type": "code",
   "execution_count": 72,
   "metadata": {},
   "outputs": [
    {
     "name": "stdout",
     "output_type": "stream",
     "text": [
      "Hey, man, sup?\n"
     ]
    }
   ],
   "source": [
    "print(\"Hey, man, sup?\")"
   ]
  },
  {
   "cell_type": "markdown",
   "metadata": {},
   "source": [
    "Notice that different types of objects have different outputs when you pass them to `print`:"
   ]
  },
  {
   "cell_type": "code",
   "execution_count": 73,
   "metadata": {},
   "outputs": [
    {
     "name": "stdout",
     "output_type": "stream",
     "text": [
      "['apple', 'banana', 'cumquat', 'date']\n"
     ]
    }
   ],
   "source": [
    "print(my_list)"
   ]
  },
  {
   "cell_type": "code",
   "execution_count": 74,
   "metadata": {},
   "outputs": [
    {
     "name": "stdout",
     "output_type": "stream",
     "text": [
      "{'Britney Spears': 'Lucky', 'Backstreet Boys': 'Larger Than Life', 'Drake': 'HYFR', 'Jay Park': 'All I Wanna Do', 'Rihanna': 'Where Have You Been', 'Bruno Mars': {'Wild': \"That's What I Like\", 'Sad': 'When I Was Your Man'}}\n"
     ]
    }
   ],
   "source": [
    "print(best_songs)"
   ]
  },
  {
   "cell_type": "markdown",
   "metadata": {},
   "source": [
    "We can mix and match arguments to the `print` function:"
   ]
  },
  {
   "cell_type": "code",
   "execution_count": 75,
   "metadata": {},
   "outputs": [
    {
     "name": "stdout",
     "output_type": "stream",
     "text": [
      "My favorite prime numbers are 13 and 15 .\n"
     ]
    }
   ],
   "source": [
    "fav_prime_1 = 13\n",
    "fav_prime_2 = 15\n",
    "print(\"My favorite prime numbers are\", fav_prime_1, \"and\", fav_prime_2, \".\")"
   ]
  },
  {
   "cell_type": "markdown",
   "metadata": {},
   "source": [
    "The space at the end is annoying, huh?  By default, Python 3 will add a space between each of the arguments that you pass to `print`.  You can override this by doing:"
   ]
  },
  {
   "cell_type": "code",
   "execution_count": 76,
   "metadata": {},
   "outputs": [
    {
     "name": "stdout",
     "output_type": "stream",
     "text": [
      "My favorite prime numbers are 13 and 15.\n"
     ]
    }
   ],
   "source": [
    "print(\"My favorite prime numbers are \", fav_prime_1, \" and \", fav_prime_2, \".\", sep = \"\")"
   ]
  },
  {
   "cell_type": "markdown",
   "metadata": {},
   "source": [
    "The `sep = \"\"` argument tells `print` that you don't want any separation between the other arguments when they're printed out.  It's kind of annoying having to mind the spaces and the `sep` argument, so we're going to move on to the `string.format` function.  \n",
    "\n",
    "Let's start with an example:"
   ]
  },
  {
   "cell_type": "code",
   "execution_count": 77,
   "metadata": {},
   "outputs": [
    {
     "name": "stdout",
     "output_type": "stream",
     "text": [
      "My favorite prime numbers are 13 and 15.\n"
     ]
    }
   ],
   "source": [
    "print(\"My favorite prime numbers are {} and {}.\".format(\n",
    "    fav_prime_1, fav_prime_2))"
   ]
  },
  {
   "cell_type": "markdown",
   "metadata": {},
   "source": [
    "The `string.format` function takes arguments that you supply and inserts them into the string at the placeholder `{}` curly braces.  As you can see, this gives you much more control over the output of a print statement."
   ]
  }
 ],
 "metadata": {
  "kernelspec": {
   "display_name": "Python 3",
   "language": "python",
   "name": "python3"
  },
  "language_info": {
   "codemirror_mode": {
    "name": "ipython",
    "version": 3
   },
   "file_extension": ".py",
   "mimetype": "text/x-python",
   "name": "python",
   "nbconvert_exporter": "python",
   "pygments_lexer": "ipython3",
   "version": "3.6.5"
  }
 },
 "nbformat": 4,
 "nbformat_minor": 2
}
