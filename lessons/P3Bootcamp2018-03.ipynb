{
 "cells": [
  {
   "cell_type": "markdown",
   "metadata": {},
   "source": [
    "# Introduction to Python"
   ]
  },
  {
   "cell_type": "markdown",
   "metadata": {},
   "source": [
    "## Predictive Plant Phenomics Software Bootcamp 2018"
   ]
  },
  {
   "cell_type": "markdown",
   "metadata": {},
   "source": [
    "## Section 3: Reading and Writing from Files"
   ]
  },
  {
   "cell_type": "markdown",
   "metadata": {},
   "source": [
    "Python makes it very easy to read and write from files.  In most cases, we will build off of the following lines of code:\n",
    "\n",
    "```python\n",
    "    with open(filename, mode) as my_file:\n",
    "        for line in my_file:\n",
    "            # do stuff\n",
    "```"
   ]
  },
  {
   "cell_type": "markdown",
   "metadata": {},
   "source": [
    "`open` is a function that takes a file and opens it for your use.  The first argument, `filename`, is the name of the file you want to open.  The second argument, `mode`, is the mode that you want to open that file in.  By default, files are opened in `read` mode (i.e., `mode = r`); you are *only* able to read from the file.  If you would like to open a file *only* to write to, set `mode = w`.  Opening a file with `mode = w` will overwrite whatever is currently in the file.  You can open a file in append mode by passing `mode = a` when you open the file; doing so will add to the end of the file instead of overwriting everything.  Finally, `mode = r+` opens the file for both reading and writing.  In summary:\n",
    "\n",
    "| Mode          | Reading       | Writing |  Append |\n",
    "| ------------- |:-------------:| :------:| :---:   |\n",
    "| r (default)   | right-aligned | $1600   |         |\n",
    "| w             | centered      |   $12   |         |\n",
    "| r+            | are neat      |    $1   |         |\n",
    "| a             | are neat      |    $1   |         |\n",
    "\n",
    "\n",
    "\n",
    "When you begin a block of code with the `with open(filename) as my_file` syntax, Python will take care of opening and closing the file for you."
   ]
  },
  {
   "cell_type": "code",
   "execution_count": null,
   "metadata": {},
   "outputs": [],
   "source": []
  }
 ],
 "metadata": {
  "kernelspec": {
   "display_name": "Python 3",
   "language": "python",
   "name": "python3"
  },
  "language_info": {
   "codemirror_mode": {
    "name": "ipython",
    "version": 3
   },
   "file_extension": ".py",
   "mimetype": "text/x-python",
   "name": "python",
   "nbconvert_exporter": "python",
   "pygments_lexer": "ipython3",
   "version": "3.6.5"
  }
 },
 "nbformat": 4,
 "nbformat_minor": 2
}
