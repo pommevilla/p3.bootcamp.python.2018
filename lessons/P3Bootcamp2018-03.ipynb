{
 "cells": [
  {
   "cell_type": "markdown",
   "metadata": {},
   "source": [
    "# Introduction to Python"
   ]
  },
  {
   "cell_type": "markdown",
   "metadata": {},
   "source": [
    "## Predictive Plant Phenomics Software Bootcamp 2018"
   ]
  },
  {
   "cell_type": "markdown",
   "metadata": {},
   "source": [
    "## Section 3: File I/O"
   ]
  },
  {
   "cell_type": "markdown",
   "metadata": {},
   "source": [
    "Python makes it very easy to read and write from files.  In most cases, we will build off of the following lines of code:\n",
    "\n",
    "```python\n",
    "    with open(filename, mode) as my_file:\n",
    "        for line in my_file:\n",
    "            # do stuff\n",
    "            # do some more stuff\n",
    "            ...\n",
    "            # do the last stuff\n",
    "```"
   ]
  },
  {
   "cell_type": "markdown",
   "metadata": {},
   "source": [
    "`open` is a function that takes a file and opens it for your use.  The first argument, `filename`, is the name of the file you want to open.  The second argument, `mode`, is the mode that you want to open that file in.  By default, files are opened in `read` mode (i.e., `mode = r`); you are *only* able to read from the file.  If you would like to open a file *only* to write to, set `mode = w`.  Opening a file with `mode = w` will overwrite whatever is currently in the file.  You can open a file in append mode by passing `mode = a` when you open the file; doing so will add to the end of the file instead of overwriting everything.  Finally, `mode = r+` opens the file for both reading and writing.  In summary:\n",
    "\n",
    "|     Mode    | Access | \n",
    "|:-----------:|:------:|\n",
    "| r (default) | Read only     | \n",
    "|      w      | Write only     |\n",
    "|      r+     | Read and write     |  \n",
    "|      a      | Append     | \n",
    "\n",
    "\n",
    "\n",
    "When you begin a block of code with the `with open(filename) as my_file` syntax, Python will take care of opening and closing the file for you when control leaves the code block begun by the `with` statement.  The `for line in my_file` line sets up a for loop to iterate through every line in the file.  Finally, write the code you want to perform in the inner-most code block.\n",
    "\n",
    "Let's practice!"
   ]
  },
  {
   "cell_type": "markdown",
   "metadata": {},
   "source": [
    "### Section 3.1: Reading from Files"
   ]
  },
  {
   "cell_type": "markdown",
   "metadata": {},
   "source": [
    "The most basic thing you can do with a file is print it out:"
   ]
  },
  {
   "cell_type": "code",
   "execution_count": 2,
   "metadata": {},
   "outputs": [
    {
     "name": "stdout",
     "output_type": "stream",
     "text": [
      "Stopping by Woods on a Snowy Evening by Robert Frost\n",
      "\n",
      "\n",
      "\n",
      "Whose woods these are I think I know.   \n",
      "\n",
      "His house is in the village though;   \n",
      "\n",
      "He will not see me stopping here   \n",
      "\n",
      "To watch his woods fill up with snow.   \n",
      "\n",
      "\n",
      "\n",
      "My little horse must think it queer   \n",
      "\n",
      "To stop without a farmhouse near   \n",
      "\n",
      "Between the woods and frozen lake   \n",
      "\n",
      "The darkest evening of the year.   \n",
      "\n",
      "\n",
      "\n",
      "He gives his harness bells a shake   \n",
      "\n",
      "To ask if there is some mistake.   \n",
      "\n",
      "The only other sound’s the sweep   \n",
      "\n",
      "Of easy wind and downy flake.   \n",
      "\n",
      "\n",
      "\n",
      "The woods are lovely, dark and deep,   \n",
      "\n",
      "But I have promises to keep,   \n",
      "\n",
      "And miles to go before I sleep,   \n",
      "\n",
      "And miles to go before I sleep.\n"
     ]
    }
   ],
   "source": [
    "with open('./data/woods.txt') as fin:\n",
    "    for line in fin:\n",
    "        print(line)"
   ]
  },
  {
   "cell_type": "markdown",
   "metadata": {},
   "source": [
    "Notice how there's an extra blank line between each line.  This is because each line in a `.txt` file ends with a newline character.  We can remove this by calling `str.rstrip()`:"
   ]
  },
  {
   "cell_type": "code",
   "execution_count": 4,
   "metadata": {},
   "outputs": [
    {
     "name": "stdout",
     "output_type": "stream",
     "text": [
      "Stopping by Woods on a Snowy Evening by Robert Frost\n",
      "\n",
      "Whose woods these are I think I know.\n",
      "His house is in the village though;\n",
      "He will not see me stopping here\n",
      "To watch his woods fill up with snow.\n",
      "\n",
      "My little horse must think it queer\n",
      "To stop without a farmhouse near\n",
      "Between the woods and frozen lake\n",
      "The darkest evening of the year.\n",
      "\n",
      "He gives his harness bells a shake\n",
      "To ask if there is some mistake.\n",
      "The only other sound’s the sweep\n",
      "Of easy wind and downy flake.\n",
      "\n",
      "The woods are lovely, dark and deep,\n",
      "But I have promises to keep,\n",
      "And miles to go before I sleep,\n",
      "And miles to go before I sleep.\n"
     ]
    }
   ],
   "source": [
    "with open('./data/woods.txt') as fin:\n",
    "    for line in fin:\n",
    "        print(line.rstrip())"
   ]
  },
  {
   "cell_type": "markdown",
   "metadata": {},
   "source": [
    "Better.  Now suppose we want to count the number of lines in the file.  The simplest way to do it is to initialize a counter variable outside the `for` loop and increment it as we read through the line (we'll supress the output for now)."
   ]
  },
  {
   "cell_type": "code",
   "execution_count": 5,
   "metadata": {},
   "outputs": [
    {
     "name": "stdout",
     "output_type": "stream",
     "text": [
      "There are 21 lines in woods.txt.\n"
     ]
    }
   ],
   "source": [
    "line_counter = 0\n",
    "with open('./data/woods.txt') as fin:\n",
    "    for line in fin:\n",
    "        line_counter +=1\n",
    "\n",
    "print(\"There are {} lines in woods.txt.\".format(\n",
    "line_counter))"
   ]
  },
  {
   "cell_type": "markdown",
   "metadata": {},
   "source": [
    "Now let's say we want to label the lines as we print them out.  We can use string formatting to do so:"
   ]
  },
  {
   "cell_type": "code",
   "execution_count": 9,
   "metadata": {},
   "outputs": [
    {
     "name": "stdout",
     "output_type": "stream",
     "text": [
      "1 Stopping by Woods on a Snowy Evening by Robert Frost\n",
      "2 \n",
      "3 Whose woods these are I think I know.\n",
      "4 His house is in the village though;\n",
      "5 He will not see me stopping here\n",
      "6 To watch his woods fill up with snow.\n",
      "7 \n",
      "8 My little horse must think it queer\n",
      "9 To stop without a farmhouse near\n",
      "10 Between the woods and frozen lake\n",
      "11 The darkest evening of the year.\n",
      "12 \n",
      "13 He gives his harness bells a shake\n",
      "14 To ask if there is some mistake.\n",
      "15 The only other sound’s the sweep\n",
      "16 Of easy wind and downy flake.\n",
      "17 \n",
      "18 The woods are lovely, dark and deep,\n",
      "19 But I have promises to keep,\n",
      "20 And miles to go before I sleep,\n",
      "21 And miles to go before I sleep.\n"
     ]
    }
   ],
   "source": [
    "line_counter = 0\n",
    "with open('./data/woods.txt') as fin:\n",
    "    for line in fin:\n",
    "        line_counter += 1\n",
    "        print(\"{} {}\".format(line_counter, line.rstrip()))\n",
    "        \n",
    "    print(\"There are {} lines in woods.txt.\".format(line_counter))"
   ]
  },
  {
   "cell_type": "markdown",
   "metadata": {},
   "source": [
    "Using a `line_counter` variables is a perfectly acceptable way of keeping track of the line number when reading a file - if it makes sense to you and its easy to remember, use it.  However, Python provides the `enumerate` method to do just this:"
   ]
  },
  {
   "cell_type": "code",
   "execution_count": 13,
   "metadata": {},
   "outputs": [
    {
     "name": "stdout",
     "output_type": "stream",
     "text": [
      "0 Stopping by Woods on a Snowy Evening by Robert Frost\n",
      "1 \n",
      "2 Whose woods these are I think I know.\n",
      "3 His house is in the village though;\n",
      "4 He will not see me stopping here\n",
      "5 To watch his woods fill up with snow.\n",
      "6 \n",
      "7 My little horse must think it queer\n",
      "8 To stop without a farmhouse near\n",
      "9 Between the woods and frozen lake\n",
      "10 The darkest evening of the year.\n",
      "11 \n",
      "12 He gives his harness bells a shake\n",
      "13 To ask if there is some mistake.\n",
      "14 The only other sound’s the sweep\n",
      "15 Of easy wind and downy flake.\n",
      "16 \n",
      "17 The woods are lovely, dark and deep,\n",
      "18 But I have promises to keep,\n",
      "19 And miles to go before I sleep,\n",
      "20 And miles to go before I sleep.\n",
      "There are 20 lines in woods.txt.\n"
     ]
    }
   ],
   "source": [
    "with open('./data/woods.txt') as fin:\n",
    "    for line_num, line in enumerate(fin):\n",
    "        print(\"{} {}\".format(line_num, line.rstrip()))\n",
    "    \n",
    "    print(\"There are {} lines in woods.txt.\".format(line_num))"
   ]
  },
  {
   "cell_type": "markdown",
   "metadata": {},
   "source": [
    "The `enumerate` method essentially takes care of the `line_counter` variable for you.  Use whichever method you're more comfortable with.  There are times where you'll want to declare an independent `line_counter` variable, but for today, I'm going to stick with `enumerate`.  \n",
    "\n",
    "Now let's say we want to find the longest line in the file.  Since each line in the file is just a string, we can easily see how long it is by calling `len(str)`.  The process of locating the longest (or smallest, or whatever extreme measurement you're looking for) entry will typically follow this procedure:\n",
    "\n",
    "* Create a variable called `longest_line_size` and set it equal to 0\n",
    "* Create an empty string called `longest_line` and set it equal to \"\"\n",
    "* Create a variable called `longest_line_number` and set it equal to 0\n",
    "* For each line in the file:\n",
    "    * If the length of `current_line` is larger than `longest_line_size':\n",
    "        * Set `longest_line_size` = `len(current_line)`\n",
    "        * Set `longest_line` = `current_line`\n",
    "        * Set `longest_line_number` = `current_line_number`\n",
    "* Process...\n",
    "\n",
    "Translating this to our current file:\n",
    "\n",
    "\n"
   ]
  },
  {
   "cell_type": "markdown",
   "metadata": {},
   "source": [
    "### Section 3.2: Writing to Files"
   ]
  },
  {
   "cell_type": "code",
   "execution_count": null,
   "metadata": {},
   "outputs": [],
   "source": []
  }
 ],
 "metadata": {
  "kernelspec": {
   "display_name": "Python 3",
   "language": "python",
   "name": "python3"
  },
  "language_info": {
   "codemirror_mode": {
    "name": "ipython",
    "version": 3
   },
   "file_extension": ".py",
   "mimetype": "text/x-python",
   "name": "python",
   "nbconvert_exporter": "python",
   "pygments_lexer": "ipython3",
   "version": "3.6.5"
  }
 },
 "nbformat": 4,
 "nbformat_minor": 2
}
